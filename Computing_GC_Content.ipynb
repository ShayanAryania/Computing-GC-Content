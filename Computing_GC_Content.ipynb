{
 "cells": [
  {
   "cell_type": "markdown",
   "metadata": {},
   "source": [
    "### ***Problem***"
   ]
  },
  {
   "cell_type": "markdown",
   "metadata": {},
   "source": [
    "The GC-content of a DNA string is given by the percentage of symbols in the string that are 'C' or 'G'. For example, the GC-content of \"AGCTATAG\" is 37.5%. Note that the reverse complement of any DNA string has the same GC-content.\n",
    "\n",
    "DNA strings must be labeled when they are consolidated into a database. A commonly used method of string labeling is called FASTA format. In this format, the string is introduced by a line that begins with '>', followed by some labeling information. Subsequent lines contain the string itself; the first line to begin with '>' indicates the label of the next string.\n",
    "\n",
    "In Rosalind's implementation, a string in FASTA format will be labeled by the ID \"Rosalind_xxxx\", where \"xxxx\" denotes a four-digit code between 0000 and 9999.\n",
    "\n",
    "Given: At most 10 DNA strings in FASTA format (of length at most 1 kbp each).\n",
    "\n",
    "Return: The ID of the string having the highest GC-content, followed by the GC-content of that string. Rosalind allows for a default error of 0.001 in all decimal answers unless otherwise stated; please see the note on absolute error below."
   ]
  },
  {
   "cell_type": "markdown",
   "metadata": {},
   "source": [
    "### ***Sample Dataset***"
   ]
  },
  {
   "cell_type": "markdown",
   "metadata": {},
   "source": [
    "\n",
    "#### >Rosalind_6404\n",
    "CCTGCGGAAGATCGGCACTAGAATAGCCAGAACCGTTTCTCTGAGGCTTCCGGCCTTCCC\n",
    "TCCCACTAATAATTCTGAGG\n",
    "#### >Rosalind_5959\n",
    "CCATCGGTAGCGCATCCTTAGTCCAATTAAGTCCCTATCCAGGCGCTCCGCCGAAGGTCT\n",
    "ATATCCATTTGTCAGCAGACACGC\n",
    "#### >Rosalind_0808\n",
    "CCACCCTCGTGGTATGGCTAGGCATTCAGGAACCGGAGAACGCTTCAGACCAGCCCGGAC\n",
    "TGGGAACCTGCGGGCAGTAGGTGGAAT\n"
   ]
  },
  {
   "cell_type": "markdown",
   "metadata": {},
   "source": [
    "#### ***Sample Output***"
   ]
  },
  {
   "cell_type": "markdown",
   "metadata": {},
   "source": [
    "Rosalind_0808\n",
    "60.919540"
   ]
  },
  {
   "cell_type": "markdown",
   "metadata": {},
   "source": [
    "# Code"
   ]
  },
  {
   "cell_type": "code",
   "execution_count": 10,
   "metadata": {},
   "outputs": [],
   "source": [
    "import urllib\n",
    "import contextlib"
   ]
  },
  {
   "cell_type": "markdown",
   "metadata": {},
   "source": [
    "#### Functions"
   ]
  },
  {
   "cell_type": "code",
   "execution_count": 26,
   "metadata": {},
   "outputs": [],
   "source": [
    "def ReadFASTA(data_location):\n",
    "        '''Determines the data type of the FASTA format data and passes the appropriate information to be parsed.'''\n",
    "        \n",
    "        # If given a list, return fasta information from all items in the list.\n",
    "        if type(data_location) == list:\n",
    "                fasta_list =[]\n",
    "                for location in data_location:\n",
    "                        fasta_list+=ReadFASTA(location)\n",
    "                return fasta_list\n",
    "\n",
    "\n",
    "        # Check for a text file, return fasta info from the text file.\n",
    "        if data_location[-4:] == '.txt':\n",
    "                with open(data_location) as f:\n",
    "                        return ParseFASTA(f)\n",
    "        \n",
    "        # Check for a website, return fasta info from the website.\n",
    "        elif data_location[0:4] == 'http':\n",
    "                with contextlib.closing(urllib.urlopen(data_location)) as f:\n",
    "                        return ParseFASTA(f)\n",
    "\n",
    "\n",
    "def ParseFASTA(f):\n",
    "        '''Extracts the Sequence Name and Nucleotide/Peptide Sequence from the a FASTA format file or website.'''\n",
    "        fasta_list=[]\n",
    "        for line in f:\n",
    "\n",
    "                # If the line starts with '>' we've hit a new DNA strand, so append the old one and create the new one.\n",
    "                if line[0] == '>':\n",
    "                        \n",
    "                        current_dna = [line.lstrip('>').rstrip('\\n'),'']\n",
    "\n",
    "                        # Using try/except because intially there will be no current DNA strand to append.\n",
    "                        try:\n",
    "                                fasta_list.append(current_dna)\n",
    "                        except UnboundLocalError:\n",
    "                                pass\n",
    "\n",
    "                        #current_dna = [line.lstrip('>').rstrip('\\n'),'']\n",
    "\n",
    "                # Otherwise, append the current DNA line to the current DNA\n",
    "                else:\n",
    "                        current_dna[1] += line.rstrip('\\n')\n",
    "        \n",
    "        # Append the final DNA strand after reading all the lines.\n",
    "        fasta_list.append(current_dna)\n",
    "\n",
    "        return fasta_list\n",
    "\n",
    "def max_gc_content(seq_list):\n",
    "    gc_content = lambda seq: sum([100.0 for base in seq if base in ('G', 'C')])/len(seq)  # 100 to scale result to %.\n",
    "    gc_list = [[seq_name, gc_content(seq)] for seq_name, seq in seq_list]\n",
    "    return max(gc_list, key=lambda x: x[1])"
   ]
  },
  {
   "cell_type": "markdown",
   "metadata": {},
   "source": [
    "#### Importing the file"
   ]
  },
  {
   "cell_type": "code",
   "execution_count": 38,
   "metadata": {},
   "outputs": [],
   "source": [
    "seq_list = ReadFASTA('/Users/shayanaryania/Desktop/University/Rosalind/5_Computing_GC_Content/rosalind_gc.txt')\n",
    "highest_gc = map(str, max_gc_content(seq_list))"
   ]
  },
  {
   "cell_type": "markdown",
   "metadata": {},
   "source": [
    "#### Printing the output"
   ]
  },
  {
   "cell_type": "code",
   "execution_count": 39,
   "metadata": {},
   "outputs": [
    {
     "name": "stdout",
     "output_type": "stream",
     "text": [
      "Rosalind_4364\n",
      "50.0\n"
     ]
    }
   ],
   "source": [
    "print('\\n'.join(highest_gc))"
   ]
  },
  {
   "cell_type": "markdown",
   "metadata": {},
   "source": [
    "#### Exporting the output"
   ]
  },
  {
   "cell_type": "code",
   "execution_count": 43,
   "metadata": {},
   "outputs": [],
   "source": [
    "    with open('/Users/shayanaryania/Desktop/University/Rosalind/5_Computing_GC_Content/Computing_GC_Content.txt', 'w') as output_data:\n",
    "        output_data.write('\\n'.join(map(str, max_gc_content(seq_list))))"
   ]
  },
  {
   "cell_type": "code",
   "execution_count": null,
   "metadata": {},
   "outputs": [],
   "source": []
  }
 ],
 "metadata": {
  "kernelspec": {
   "display_name": "Python 3",
   "language": "python",
   "name": "python3"
  },
  "language_info": {
   "codemirror_mode": {
    "name": "ipython",
    "version": 3
   },
   "file_extension": ".py",
   "mimetype": "text/x-python",
   "name": "python",
   "nbconvert_exporter": "python",
   "pygments_lexer": "ipython3",
   "version": "3.11.4"
  }
 },
 "nbformat": 4,
 "nbformat_minor": 2
}
